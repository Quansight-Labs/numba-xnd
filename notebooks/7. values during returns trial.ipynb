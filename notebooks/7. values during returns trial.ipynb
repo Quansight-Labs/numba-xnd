{
 "cells": [
  {
   "cell_type": "markdown",
   "metadata": {},
   "source": [
    "OK let's try this for the original issue:"
   ]
  },
  {
   "cell_type": "code",
   "execution_count": 4,
   "metadata": {},
   "outputs": [
    {
     "name": "stdout",
     "output_type": "stream",
     "text": [
      "inner_fn_works 10\n",
      "outer_fn_works 10\n",
      "outer_fn_broken 10\n"
     ]
    }
   ],
   "source": [
    "import llvmlite\n",
    "import numba\n",
    "\n",
    "llvm_type = llvmlite.ir.IntType(64)\n",
    "\n",
    "\n",
    "class TestStructType(numba.types.Type):\n",
    "    def __init__(self):\n",
    "        super().__init__(name=\"TestStruct\")\n",
    "\n",
    "\n",
    "test_struct_type = TestStructType()\n",
    "\n",
    "\n",
    "def as_ptr(builder, value):\n",
    "    new = builder.alloca(llvm_type)\n",
    "    builder.store(value, new)\n",
    "    return new\n",
    "        \n",
    "\n",
    "@numba.extending.register_model(TestStructType)\n",
    "class TestStructModel(numba.extending.models.PrimitiveModel):\n",
    "    def __init__(self, dmm, fe_type):\n",
    "        super().__init__(dmm, fe_type, llvmlite.ir.PointerType(llvm_type))\n",
    "\n",
    "    def get_return_type(self):\n",
    "        return llvm_type\n",
    "\n",
    "#     def get_data_type(self):\n",
    "#         return ptr_llvm_type\n",
    "\n",
    "#     def as_argument(self, builder, value):\n",
    "#         return as_ptr(builder, value)\n",
    "\n",
    "    def as_return(self, builder, value):\n",
    "        return builder.load(value)\n",
    "\n",
    "#     def as_data(self, builder, value):\n",
    "#         return as_ptr(builder, value)\n",
    "\n",
    "#     def from_argument(self, builder, value):\n",
    "#         return builder.load(value)\n",
    "\n",
    "    def from_return(self, builder, value):\n",
    "        return as_ptr(builder, value)\n",
    "\n",
    "\n",
    "@numba.extending.intrinsic\n",
    "def create_test_struct(typingctx, int_t):\n",
    "\n",
    "    sig = test_struct_type(int_t)\n",
    "\n",
    "    def codegen(context, builder, sig, args):\n",
    "        a = builder.alloca(llvm_type)\n",
    "        builder.store(value=args[0], ptr=a)\n",
    "        return a\n",
    "\n",
    "    return sig, codegen\n",
    "\n",
    "\n",
    "@numba.extending.intrinsic\n",
    "def convert_test_struct(typingctx, test_struct_t):\n",
    "\n",
    "    sig = numba.types.int64(test_struct_t)\n",
    "\n",
    "    def codegen(context, builder, sig, args):\n",
    "        return builder.load(args[0])\n",
    "\n",
    "    return sig, codegen\n",
    "\n",
    "\n",
    "@numba.njit\n",
    "def inner_fn_works():\n",
    "    a = create_test_struct(10)\n",
    "    print(\"inner_fn_works\", convert_test_struct(a))\n",
    "    return a\n",
    "\n",
    "\n",
    "@numba.njit\n",
    "def outer_fn_works():\n",
    "    print(\"outer_fn_works\", convert_test_struct(inner_fn_works()))\n",
    "\n",
    "\n",
    "@numba.njit\n",
    "def inner_fn_broken():\n",
    "    a = create_test_struct(10)\n",
    "    return a\n",
    "\n",
    "\n",
    "@numba.njit\n",
    "def outer_fn_broken():\n",
    "    print(\"outer_fn_broken\", convert_test_struct(inner_fn_broken()))\n",
    "\n",
    "\n",
    "outer_fn_works()\n",
    "outer_fn_broken()"
   ]
  },
  {
   "cell_type": "markdown",
   "metadata": {},
   "source": [
    "It works :)"
   ]
  },
  {
   "cell_type": "code",
   "execution_count": null,
   "metadata": {},
   "outputs": [],
   "source": []
  }
 ],
 "metadata": {
  "kernelspec": {
   "display_name": "Python 3",
   "language": "python",
   "name": "python3"
  },
  "language_info": {
   "codemirror_mode": {
    "name": "ipython",
    "version": 3
   },
   "file_extension": ".py",
   "mimetype": "text/x-python",
   "name": "python",
   "nbconvert_exporter": "python",
   "pygments_lexer": "ipython3",
   "version": "3.6.5"
  }
 },
 "nbformat": 4,
 "nbformat_minor": 2
}
