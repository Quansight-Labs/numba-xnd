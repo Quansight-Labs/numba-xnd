{
 "cells": [
  {
   "cell_type": "markdown",
   "metadata": {},
   "source": [
    "Let's try these as opaque pointer models to see if this helps at all."
   ]
  },
  {
   "cell_type": "code",
   "execution_count": 1,
   "metadata": {},
   "outputs": [],
   "source": [
    "import os\n",
    "# os.environ['NUMBA_DUMP_OPTIMIZED'] = '1'"
   ]
  },
  {
   "cell_type": "code",
   "execution_count": 8,
   "metadata": {},
   "outputs": [
    {
     "name": "stdout",
     "output_type": "stream",
     "text": [
      "257\n"
     ]
    }
   ],
   "source": [
    "import llvmlite\n",
    "\n",
    "import numba\n",
    "\n",
    "# a byte\n",
    "llvm_type = llvmlite.ir.IntType(64)\n",
    "\n",
    "\n",
    "class TestStructType(numba.types.Type):\n",
    "    def __init__(self):\n",
    "        super().__init__(name=\"TestStruct\")\n",
    "\n",
    "\n",
    "test_struct_type = TestStructType()\n",
    "\n",
    "\n",
    "numba.extending.register_model(TestStructType)(numba.datamodel.models.OpaqueModel)\n",
    "\n",
    "\n",
    "@numba.extending.intrinsic\n",
    "def create_test_struct(typingctx, int_t):\n",
    "\n",
    "    sig = test_struct_type(int_t)\n",
    "\n",
    "    def codegen(context, builder, sig, args):\n",
    "        a = builder.alloca(llvm_type)\n",
    "        builder.store(value=args[0], ptr=a)\n",
    "        return builder.bitcast(a, llvmlite.ir.IntType(8).as_pointer())\n",
    "\n",
    "    return sig, codegen\n",
    "\n",
    "\n",
    "@numba.extending.intrinsic\n",
    "def convert_test_struct(typingctx, test_struct_t):\n",
    "\n",
    "    sig = numba.types.int64(test_struct_t)\n",
    "\n",
    "    def codegen(context, builder, sig, args):\n",
    "        return builder.load(builder.bitcast(args[0], llvmlite.ir.IntType(64).as_pointer()))\n",
    "\n",
    "    return sig, codegen\n",
    "\n",
    "\n",
    "@numba.njit\n",
    "def first_test():\n",
    "    a = create_test_struct(10)\n",
    "    # print(convert_test_struct(a))\n",
    "    return a\n",
    "\n",
    "\n",
    "@numba.njit\n",
    "def some_other_thing():\n",
    "    print(convert_test_struct(first_test()))\n",
    "\n",
    "\n",
    "some_other_thing()\n"
   ]
  },
  {
   "cell_type": "code",
   "execution_count": 6,
   "metadata": {},
   "outputs": [
    {
     "data": {
      "text/plain": [
       "<<class 'llvmlite.ir.types.PointerType'> i8*>"
      ]
     },
     "execution_count": 6,
     "metadata": {},
     "output_type": "execute_result"
    }
   ],
   "source": [
    "llvmlite.ir.IntType(8).as_pointer()"
   ]
  },
  {
   "cell_type": "code",
   "execution_count": null,
   "metadata": {},
   "outputs": [],
   "source": []
  }
 ],
 "metadata": {
  "kernelspec": {
   "display_name": "Python 3",
   "language": "python",
   "name": "python3"
  },
  "language_info": {
   "codemirror_mode": {
    "name": "ipython",
    "version": 3
   },
   "file_extension": ".py",
   "mimetype": "text/x-python",
   "name": "python",
   "nbconvert_exporter": "python",
   "pygments_lexer": "ipython3",
   "version": "3.6.5"
  }
 },
 "nbformat": 4,
 "nbformat_minor": 2
}
