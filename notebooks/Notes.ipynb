{
 "cells": [
  {
   "cell_type": "markdown",
   "metadata": {},
   "source": [
    "# Numba Notes\n",
    "\n",
    "* boxing/unboxing is only called when going to Python, not when calling a dispatcher inside of another or using high level extensions.\n",
    "* Using the `as_return`/`from_return`/`as_argument`/`from_argument` on the model let's you define this kind of boxing/unboxing when we are inside Numba.\n",
    "* `numba.targets.imputils.user_function` is used to lower dispatchers. It can be called witht a compiled dispatcher to provide a lowering for it that can be used to turn\n",
    "  a high level function into a low level one. This is done in `numba.targets.base.BaseContext::insert_user_function`, which is called when a dispatcher is compiled to add a lowering for it.\n",
    "* stack allocated (`alloca`) object should not be passed out as pointers from a function. They should always be passed as values. So it's enough to override the `from_return`/`as_return` to turn a pointer into a value, so that the allocation happens in the caller and the value get's copied."
   ]
  },
  {
   "cell_type": "code",
   "execution_count": null,
   "metadata": {},
   "outputs": [],
   "source": []
  }
 ],
 "metadata": {
  "kernelspec": {
   "display_name": "Python 3",
   "language": "python",
   "name": "python3"
  },
  "language_info": {
   "codemirror_mode": {
    "name": "ipython",
    "version": 3
   },
   "file_extension": ".py",
   "mimetype": "text/x-python",
   "name": "python",
   "nbconvert_exporter": "python",
   "pygments_lexer": "ipython3",
   "version": "3.6.5"
  }
 },
 "nbformat": 4,
 "nbformat_minor": 2
}
