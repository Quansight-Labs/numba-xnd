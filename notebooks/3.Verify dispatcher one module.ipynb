{
 "cells": [
  {
   "cell_type": "markdown",
   "metadata": {},
   "source": [
    "Let's just try to make sure if you have multiple functions they all appear in one module."
   ]
  },
  {
   "cell_type": "code",
   "execution_count": 1,
   "metadata": {},
   "outputs": [],
   "source": [
    "import numba\n",
    "import os"
   ]
  },
  {
   "cell_type": "code",
   "execution_count": 2,
   "metadata": {},
   "outputs": [],
   "source": [
    "os.environ['NUMBA_DUMP_OPTIMIZED'] = '1'"
   ]
  },
  {
   "cell_type": "code",
   "execution_count": 7,
   "metadata": {},
   "outputs": [
    {
     "name": "stdout",
     "output_type": "stream",
     "text": [
      "------------------------------OPTIMIZED DUMP there------------------------------\n",
      "; ModuleID = 'there'\n",
      "source_filename = \"<string>\"\n",
      "target datalayout = \"e-m:o-i64:64-f80:128-n8:16:32:64-S128\"\n",
      "target triple = \"x86_64-apple-darwin17.7.0\"\n",
      "\n",
      "@\"_ZN08NumbaEnv8__main__9there$249Exx\" = common local_unnamed_addr global i8* null\n",
      "@.const.there = internal constant [6 x i8] c\"there\\00\"\n",
      "@PyExc_RuntimeError = external global i8\n",
      "@\".const.missing Environment\" = internal constant [20 x i8] c\"missing Environment\\00\"\n",
      "@\"_ZN08NumbaEnv8__main__13getitem_const12$3clocals$3e8impl$242E24const$28$27hithere$27$29x\" = common local_unnamed_addr global i8* null\n",
      "\n",
      "; Function Attrs: norecurse nounwind\n",
      "define i32 @\"_ZN8__main__9there$249Exx\"(i64* noalias nocapture %retptr, { i8*, i32 }** noalias nocapture readnone %excinfo, i64 %arg.a, i64 %arg.b) local_unnamed_addr #0 {\n",
      "entry:\n",
      "  %.14 = add nsw i64 %arg.b, %arg.a\n",
      "  store i64 %.14, i64* %retptr, align 8\n",
      "  ret i32 0\n",
      "}\n",
      "\n",
      "define i8* @\"_ZN7cpython8__main__9there$249Exx\"(i8* nocapture readnone %py_closure, i8* %py_args, i8* nocapture readnone %py_kws) local_unnamed_addr {\n",
      "entry:\n",
      "  %.5 = alloca i8*, align 8\n",
      "  %.6 = alloca i8*, align 8\n",
      "  %.7 = call i32 (i8*, i8*, i64, i64, ...) @PyArg_UnpackTuple(i8* %py_args, i8* getelementptr inbounds ([6 x i8], [6 x i8]* @.const.there, i64 0, i64 0), i64 2, i64 2, i8** nonnull %.5, i8** nonnull %.6)\n",
      "  %.8 = icmp eq i32 %.7, 0\n",
      "  br i1 %.8, label %entry.if, label %entry.endif, !prof !0\n",
      "\n",
      "entry.if:                                         ; preds = %entry.endif.endif.endif.endif.endif, %entry.endif.endif.endif, %entry\n",
      "  ret i8* null\n",
      "\n",
      "entry.endif:                                      ; preds = %entry\n",
      "  %.12 = load i8*, i8** @\"_ZN08NumbaEnv8__main__9there$249Exx\", align 8\n",
      "  %.17 = icmp eq i8* %.12, null\n",
      "  br i1 %.17, label %entry.endif.if, label %entry.endif.endif, !prof !0\n",
      "\n",
      "entry.endif.if:                                   ; preds = %entry.endif\n",
      "  call void @PyErr_SetString(i8* nonnull @PyExc_RuntimeError, i8* getelementptr inbounds ([20 x i8], [20 x i8]* @\".const.missing Environment\", i64 0, i64 0))\n",
      "  ret i8* null\n",
      "\n",
      "entry.endif.endif:                                ; preds = %entry.endif\n",
      "  %.21 = load i8*, i8** %.5, align 8\n",
      "  %.23 = call i8* @PyNumber_Long(i8* %.21)\n",
      "  %.24 = icmp eq i8* %.23, null\n",
      "  br i1 %.24, label %entry.endif.endif.endif, label %entry.endif.endif.if, !prof !0\n",
      "\n",
      "entry.endif.endif.if:                             ; preds = %entry.endif.endif\n",
      "  %.26 = call i64 @PyLong_AsLongLong(i8* nonnull %.23)\n",
      "  call void @Py_DecRef(i8* nonnull %.23)\n",
      "  br label %entry.endif.endif.endif\n",
      "\n",
      "entry.endif.endif.endif:                          ; preds = %entry.endif.endif, %entry.endif.endif.if\n",
      "  %.22.0 = phi i64 [ %.26, %entry.endif.endif.if ], [ undef, %entry.endif.endif ]\n",
      "  %.31 = call i8* @PyErr_Occurred()\n",
      "  %.32 = icmp eq i8* %.31, null\n",
      "  br i1 %.32, label %entry.endif.endif.endif.endif, label %entry.if, !prof !1\n",
      "\n",
      "entry.endif.endif.endif.endif:                    ; preds = %entry.endif.endif.endif\n",
      "  %.36 = load i8*, i8** %.6, align 8\n",
      "  %.38 = call i8* @PyNumber_Long(i8* %.36)\n",
      "  %.39 = icmp eq i8* %.38, null\n",
      "  br i1 %.39, label %entry.endif.endif.endif.endif.endif, label %entry.endif.endif.endif.endif.if, !prof !0\n",
      "\n",
      "entry.endif.endif.endif.endif.if:                 ; preds = %entry.endif.endif.endif.endif\n",
      "  %.41 = call i64 @PyLong_AsLongLong(i8* nonnull %.38)\n",
      "  call void @Py_DecRef(i8* nonnull %.38)\n",
      "  br label %entry.endif.endif.endif.endif.endif\n",
      "\n",
      "entry.endif.endif.endif.endif.endif:              ; preds = %entry.endif.endif.endif.endif, %entry.endif.endif.endif.endif.if\n",
      "  %.37.0 = phi i64 [ %.41, %entry.endif.endif.endif.endif.if ], [ undef, %entry.endif.endif.endif.endif ]\n",
      "  %.46 = call i8* @PyErr_Occurred()\n",
      "  %.47 = icmp eq i8* %.46, null\n",
      "  br i1 %.47, label %entry.endif.endif.endif.endif.endif.endif, label %entry.if, !prof !1\n",
      "\n",
      "entry.endif.endif.endif.endif.endif.endif:        ; preds = %entry.endif.endif.endif.endif.endif\n",
      "  %.14.i = add nsw i64 %.37.0, %.22.0\n",
      "  %.69 = call i8* @PyLong_FromLongLong(i64 %.14.i)\n",
      "  ret i8* %.69\n",
      "}\n",
      "\n",
      "declare i32 @PyArg_UnpackTuple(i8*, i8*, i64, i64, ...) local_unnamed_addr\n",
      "\n",
      "declare void @PyErr_SetString(i8*, i8*) local_unnamed_addr\n",
      "\n",
      "declare i8* @PyNumber_Long(i8*) local_unnamed_addr\n",
      "\n",
      "declare i64 @PyLong_AsLongLong(i8*) local_unnamed_addr\n",
      "\n",
      "declare void @Py_DecRef(i8*) local_unnamed_addr\n",
      "\n",
      "declare i8* @PyErr_Occurred() local_unnamed_addr\n",
      "\n",
      "declare i8* @PyLong_FromLongLong(i64) local_unnamed_addr\n",
      "\n",
      "; Function Attrs: nounwind\n",
      "declare void @llvm.stackprotector(i8*, i8**) #1\n",
      "\n",
      "attributes #0 = { norecurse nounwind }\n",
      "attributes #1 = { nounwind }\n",
      "\n",
      "!0 = !{!\"branch_weights\", i32 1, i32 99}\n",
      "!1 = !{!\"branch_weights\", i32 99, i32 1}\n",
      "\n",
      "================================================================================\n",
      "-------------------------------OPTIMIZED DUMP hi--------------------------------\n",
      "; ModuleID = 'hi'\n",
      "source_filename = \"<string>\"\n",
      "target datalayout = \"e-m:o-i64:64-f80:128-n8:16:32:64-S128\"\n",
      "target triple = \"x86_64-apple-darwin17.7.0\"\n",
      "\n",
      "@\"_ZN08NumbaEnv8__main__6hi$248Ex\" = common local_unnamed_addr global i8* null\n",
      "@.const.hi = internal constant [3 x i8] c\"hi\\00\"\n",
      "@PyExc_RuntimeError = external global i8\n",
      "@\".const.missing Environment\" = internal constant [20 x i8] c\"missing Environment\\00\"\n",
      "@\"_ZN08NumbaEnv8__main__9there$249Exx\" = common local_unnamed_addr global i8* null\n",
      "@\"_ZN08NumbaEnv8__main__13getitem_const12$3clocals$3e8impl$242E24const$28$27hithere$27$29x\" = common local_unnamed_addr global i8* null\n",
      "\n",
      "; Function Attrs: norecurse nounwind\n",
      "define i32 @\"_ZN8__main__6hi$248Ex\"(i64* noalias nocapture %retptr, { i8*, i32 }** noalias nocapture %excinfo, i64 %arg.a) local_unnamed_addr #0 {\n",
      "B0.endif:\n",
      "  %.14.i = add nsw i64 %arg.a, 1\n",
      "  store i64 %.14.i, i64* %retptr, align 8\n",
      "  ret i32 0\n",
      "}\n",
      "\n",
      "define i8* @\"_ZN7cpython8__main__6hi$248Ex\"(i8* nocapture readnone %py_closure, i8* %py_args, i8* nocapture readnone %py_kws) local_unnamed_addr {\n",
      "entry:\n",
      "  %.5 = alloca i8*, align 8\n",
      "  %.6 = call i32 (i8*, i8*, i64, i64, ...) @PyArg_UnpackTuple(i8* %py_args, i8* getelementptr inbounds ([3 x i8], [3 x i8]* @.const.hi, i64 0, i64 0), i64 1, i64 1, i8** nonnull %.5)\n",
      "  %.7 = icmp eq i32 %.6, 0\n",
      "  br i1 %.7, label %entry.if, label %entry.endif, !prof !0\n",
      "\n",
      "entry.if:                                         ; preds = %entry.endif.endif.endif, %entry\n",
      "  ret i8* null\n",
      "\n",
      "entry.endif:                                      ; preds = %entry\n",
      "  %.11 = load i8*, i8** @\"_ZN08NumbaEnv8__main__6hi$248Ex\", align 8\n",
      "  %.16 = icmp eq i8* %.11, null\n",
      "  br i1 %.16, label %entry.endif.if, label %entry.endif.endif, !prof !0\n",
      "\n",
      "entry.endif.if:                                   ; preds = %entry.endif\n",
      "  call void @PyErr_SetString(i8* nonnull @PyExc_RuntimeError, i8* getelementptr inbounds ([20 x i8], [20 x i8]* @\".const.missing Environment\", i64 0, i64 0))\n",
      "  ret i8* null\n",
      "\n",
      "entry.endif.endif:                                ; preds = %entry.endif\n",
      "  %.20 = load i8*, i8** %.5, align 8\n",
      "  %.22 = call i8* @PyNumber_Long(i8* %.20)\n",
      "  %.23 = icmp eq i8* %.22, null\n",
      "  br i1 %.23, label %entry.endif.endif.endif, label %entry.endif.endif.if, !prof !0\n",
      "\n",
      "entry.endif.endif.if:                             ; preds = %entry.endif.endif\n",
      "  %.25 = call i64 @PyLong_AsLongLong(i8* nonnull %.22)\n",
      "  call void @Py_DecRef(i8* nonnull %.22)\n",
      "  %phitmp = add i64 %.25, 1\n",
      "  br label %entry.endif.endif.endif\n",
      "\n",
      "entry.endif.endif.endif:                          ; preds = %entry.endif.endif, %entry.endif.endif.if\n",
      "  %.21.0 = phi i64 [ %phitmp, %entry.endif.endif.if ], [ undef, %entry.endif.endif ]\n",
      "  %.30 = call i8* @PyErr_Occurred()\n",
      "  %.31 = icmp eq i8* %.30, null\n",
      "  br i1 %.31, label %entry.endif.endif.endif.endif.if.endif, label %entry.if, !prof !1\n",
      "\n",
      "entry.endif.endif.endif.endif.if.endif:           ; preds = %entry.endif.endif.endif\n",
      "  %.53 = call i8* @PyLong_FromLongLong(i64 %.21.0)\n",
      "  ret i8* %.53\n",
      "}\n",
      "\n",
      "declare i32 @PyArg_UnpackTuple(i8*, i8*, i64, i64, ...) local_unnamed_addr\n",
      "\n",
      "declare void @PyErr_SetString(i8*, i8*) local_unnamed_addr\n",
      "\n",
      "declare i8* @PyNumber_Long(i8*) local_unnamed_addr\n",
      "\n",
      "declare i64 @PyLong_AsLongLong(i8*) local_unnamed_addr\n",
      "\n",
      "declare void @Py_DecRef(i8*) local_unnamed_addr\n",
      "\n",
      "declare i8* @PyErr_Occurred() local_unnamed_addr\n",
      "\n",
      "declare i8* @PyLong_FromLongLong(i64) local_unnamed_addr\n",
      "\n",
      "; Function Attrs: nounwind\n",
      "declare void @llvm.stackprotector(i8*, i8**) #1\n",
      "\n",
      "attributes #0 = { norecurse nounwind }\n",
      "attributes #1 = { nounwind }\n",
      "\n",
      "!0 = !{!\"branch_weights\", i32 1, i32 99}\n",
      "!1 = !{!\"branch_weights\", i32 99, i32 1}\n",
      "\n",
      "================================================================================\n"
     ]
    },
    {
     "data": {
      "text/plain": [
       "11"
      ]
     },
     "execution_count": 7,
     "metadata": {},
     "output_type": "execute_result"
    }
   ],
   "source": [
    "@numba.njit\n",
    "def there(a, b):\n",
    "    return a + b\n",
    "\n",
    "@numba.njit\n",
    "def hi(a):\n",
    "    return there(a, 1)\n",
    "    \n",
    "hi(10)"
   ]
  },
  {
   "cell_type": "markdown",
   "metadata": {},
   "source": [
    "Yep, this all get's inlined in `hi`: `%phitmp = add i64 %.25, 1`"
   ]
  },
  {
   "cell_type": "code",
   "execution_count": 13,
   "metadata": {},
   "outputs": [],
   "source": [
    "cres = list(hi.overloads.values())[0]"
   ]
  },
  {
   "cell_type": "code",
   "execution_count": 14,
   "metadata": {},
   "outputs": [
    {
     "data": {
      "text/plain": [
       "<function descriptor 'hi$8'>"
      ]
     },
     "execution_count": 14,
     "metadata": {},
     "output_type": "execute_result"
    }
   ],
   "source": [
    "cres.fndesc"
   ]
  },
  {
   "cell_type": "code",
   "execution_count": 15,
   "metadata": {},
   "outputs": [
    {
     "data": {
      "text/plain": [
       "<numba.targets.registry.CPUTarget at 0x113d2bd68>"
      ]
     },
     "execution_count": 15,
     "metadata": {},
     "output_type": "execute_result"
    }
   ],
   "source": [
    "hi.targetctx.insert_user_function"
   ]
  },
  {
   "cell_type": "code",
   "execution_count": null,
   "metadata": {},
   "outputs": [],
   "source": []
  }
 ],
 "metadata": {
  "kernelspec": {
   "display_name": "Python 3",
   "language": "python",
   "name": "python3"
  },
  "language_info": {
   "codemirror_mode": {
    "name": "ipython",
    "version": 3
   },
   "file_extension": ".py",
   "mimetype": "text/x-python",
   "name": "python",
   "nbconvert_exporter": "python",
   "pygments_lexer": "ipython3",
   "version": "3.6.5"
  }
 },
 "nbformat": 4,
 "nbformat_minor": 2
}
