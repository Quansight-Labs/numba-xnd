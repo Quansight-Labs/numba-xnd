{
 "cells": [
  {
   "cell_type": "markdown",
   "metadata": {},
   "source": [
    "Let's see if we can change the value in setitem."
   ]
  },
  {
   "cell_type": "code",
   "execution_count": 3,
   "metadata": {},
   "outputs": [
    {
     "name": "stdout",
     "output_type": "stream",
     "text": [
      "10\n",
      "10\n"
     ]
    }
   ],
   "source": [
    "import llvmlite\n",
    "\n",
    "import numba\n",
    "\n",
    "llvm_type = llvmlite.ir.ArrayType(llvmlite.ir.IntType(64), 1)\n",
    "\n",
    "\n",
    "class TestStructType(numba.types.Type):\n",
    "    def __init__(self):\n",
    "        super().__init__(name=\"TestStruct\")\n",
    "\n",
    "\n",
    "test_struct_type = TestStructType()\n",
    "\n",
    "\n",
    "@numba.extending.register_model(TestStructType)\n",
    "class TestStructModel(numba.extending.models.PrimitiveModel):\n",
    "    def __init__(self, dmm, fe_type):\n",
    "        super().__init__(dmm, fe_type, llvm_type)\n",
    "\n",
    "        \n",
    "\n",
    "@numba.extending.intrinsic\n",
    "def create_test_struct(typingctx, int_t):\n",
    "\n",
    "    sig = test_struct_type(int_t)\n",
    "\n",
    "    def codegen(context, builder, sig, args):\n",
    "        a = builder.load(builder.alloca(llvm_type))\n",
    "        ret = builder.insert_value(a, args[0], 0)\n",
    "        return ret\n",
    "\n",
    "    return sig, codegen\n",
    "\n",
    "\n",
    "@numba.extending.intrinsic\n",
    "def convert_test_struct(typingctx, test_struct_t):\n",
    "\n",
    "    sig = numba.types.int64(test_struct_t)\n",
    "\n",
    "    def codegen(context, builder, sig, args):\n",
    "        return builder.extract_value(args[0], 0)\n",
    "\n",
    "    return sig, codegen\n",
    "\n",
    "@numba.extending.infer_getattr\n",
    "class _InnerTemplate(numba.typing.templates.AttributeTemplate):\n",
    "    key = TestStructType\n",
    "\n",
    "    def generic_resolve(self, val, attr):\n",
    "        if attr == 'first':\n",
    "            return numba.types.int64\n",
    "\n",
    "@numba.extending.lower_setattr(TestStructType, 'first')\n",
    "def inner_settattr_impl(context, builder, sig, args):\n",
    "    target, value = args\n",
    "    return builder.insert_value(target, value, 0)\n",
    "\n",
    "\n",
    "@numba.njit\n",
    "def first_test():\n",
    "    a = create_test_struct(10)\n",
    "    print(convert_test_struct(a))\n",
    "    a.first = 123\n",
    "    print(convert_test_struct(a))\n",
    "\n",
    "\n",
    "first_test()"
   ]
  },
  {
   "cell_type": "markdown",
   "metadata": {},
   "source": [
    "Hmm not working. let's see if we can modify tuples"
   ]
  },
  {
   "cell_type": "code",
   "execution_count": 4,
   "metadata": {},
   "outputs": [
    {
     "name": "stdout",
     "output_type": "stream",
     "text": [
      "10\n",
      "10\n"
     ]
    }
   ],
   "source": [
    "@numba.njit\n",
    "def next_test():\n",
    "    t = (1, 2, 3)\n",
    "    print(convert_test_struct(a))\n",
    "    a.first = 123\n",
    "    print(convert_test_struct(a))\n",
    "\n",
    "\n",
    "first_test()"
   ]
  },
  {
   "cell_type": "markdown",
   "metadata": {},
   "source": [
    "Oh that's silly, of course we can't. "
   ]
  },
  {
   "cell_type": "markdown",
   "metadata": {},
   "source": [
    "Instead, let's see if we use pointers as the default value and just use values on enter/exit (copy on every function call)."
   ]
  },
  {
   "cell_type": "code",
   "execution_count": 8,
   "metadata": {},
   "outputs": [
    {
     "name": "stdout",
     "output_type": "stream",
     "text": [
      "10\n",
      "123\n"
     ]
    }
   ],
   "source": [
    "class TestStructType2(numba.types.Type):\n",
    "    def __init__(self):\n",
    "        super().__init__(name=\"TestStruct\")\n",
    "\n",
    "\n",
    "test_struct_type_2 = TestStructType2()\n",
    "\n",
    "        \n",
    "def as_ptr(builder, value):\n",
    "    new = builder.alloca(llvm_type)\n",
    "    builder.store(new, value)\n",
    "    return new\n",
    "        \n",
    "\n",
    "@numba.extending.register_model(TestStructType2)\n",
    "class TestStructModel2(numba.extending.models.PrimitiveModel):\n",
    "    def __init__(self, dmm, fe_type):\n",
    "        super().__init__(dmm, fe_type, llvmlite.ir.PointerType(llvm_type))\n",
    "\n",
    "#     def get_argument_type(self):\n",
    "#         return ptr_llvm_type\n",
    "\n",
    "    def get_return_type(self):\n",
    "        return llvm_type\n",
    "\n",
    "#     def get_data_type(self):\n",
    "#         return ptr_llvm_type\n",
    "\n",
    "#     def as_argument(self, builder, value):\n",
    "#         return as_ptr(builder, value)\n",
    "\n",
    "    def as_return(self, builder, value):\n",
    "        return builder.load(value)\n",
    "\n",
    "#     def as_data(self, builder, value):\n",
    "#         return as_ptr(builder, value)\n",
    "\n",
    "#     def from_argument(self, builder, value):\n",
    "#         return builder.load(value)\n",
    "\n",
    "    def from_return(self, builder, value):\n",
    "        return as_ptr(builder, value)\n",
    "\n",
    "#     def from_data(self, builder, value):\n",
    "#         return builder.load(value)\n",
    "\n",
    "\n",
    "    \n",
    "@numba.extending.intrinsic\n",
    "def create_test_struct2(typingctx, int_t):\n",
    "\n",
    "    sig = test_struct_type_2(int_t)\n",
    "\n",
    "    def codegen(context, builder, sig, args):\n",
    "        a = builder.alloca(llvm_type)\n",
    "        ret = builder.insert_value(builder.load(a), args[0], 0)\n",
    "        builder.store(ret, a)\n",
    "        return a\n",
    "\n",
    "    return sig, codegen\n",
    "\n",
    "\n",
    "@numba.extending.intrinsic\n",
    "def convert_test_struct2(typingctx, test_struct_t):\n",
    "\n",
    "    sig = numba.types.int64(test_struct_t)\n",
    "\n",
    "    def codegen(context, builder, sig, args):\n",
    "        return builder.extract_value(builder.load(args[0]), 0)\n",
    "\n",
    "    return sig, codegen\n",
    "\n",
    "@numba.extending.infer_getattr\n",
    "class _InnerTemplate(numba.typing.templates.AttributeTemplate):\n",
    "    key = TestStructType2\n",
    "\n",
    "    def generic_resolve(self, val, attr):\n",
    "        if attr == 'first':\n",
    "            return numba.types.int64\n",
    "\n",
    "@numba.extending.lower_setattr(TestStructType2, 'first')\n",
    "def inner_settattr_impl(context, builder, sig, args):\n",
    "    target, value = args\n",
    "    ret = builder.insert_value(builder.load(target), value, 0)\n",
    "    builder.store(ret, target)\n",
    "\n",
    "\n",
    "@numba.njit\n",
    "def first_test2():\n",
    "    a = create_test_struct2(10)\n",
    "    print(convert_test_struct2(a))\n",
    "    a.first = 123\n",
    "    print(convert_test_struct2(a))\n",
    "\n",
    "\n",
    "first_test2()"
   ]
  },
  {
   "cell_type": "markdown",
   "metadata": {},
   "source": [
    "Wow that works! Now let's go back to original bug report and try this out."
   ]
  }
 ],
 "metadata": {
  "kernelspec": {
   "display_name": "Python 3",
   "language": "python",
   "name": "python3"
  },
  "language_info": {
   "codemirror_mode": {
    "name": "ipython",
    "version": 3
   },
   "file_extension": ".py",
   "mimetype": "text/x-python",
   "name": "python",
   "nbconvert_exporter": "python",
   "pygments_lexer": "ipython3",
   "version": "3.6.5"
  }
 },
 "nbformat": 4,
 "nbformat_minor": 2
}
