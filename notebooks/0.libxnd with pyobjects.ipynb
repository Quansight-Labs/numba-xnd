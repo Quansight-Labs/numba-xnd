{
 "cells": [
  {
   "cell_type": "markdown",
   "metadata": {},
   "source": [
    "# Libxnd with pyobjects\n",
    "\n",
    "In this notebook I will go over ways in which using the pure C apis (`libxnd`, `libndtypes`) on `XndObject`s from Python fail currently and how the exposed Python APIs help.  "
   ]
  },
  {
   "cell_type": "markdown",
   "metadata": {},
   "source": [
    "First, let's start with going over how we get a `xnd_t` from a passed in xnd object:"
   ]
  },
  {
   "cell_type": "code",
   "execution_count": 1,
   "metadata": {},
   "outputs": [],
   "source": [
    "import numba_xnd\n",
    "from numba import njit\n",
    "from xnd import xnd\n"
   ]
  },
  {
   "cell_type": "code",
   "execution_count": 2,
   "metadata": {},
   "outputs": [
    {
     "data": {
      "text/plain": [
       "140222450068736"
      ]
     },
     "execution_count": 2,
     "metadata": {},
     "output_type": "execute_result"
    }
   ],
   "source": [
    "@njit\n",
    "def get_xnd_t(x_object_wrapper):\n",
    "    # this is now an `XndObject`, as declared in `pyxnd.py`.\n",
    "    # unwrapping it allows us to directly use it as a C struct instead of \n",
    "    # as a python object.\n",
    "    x_object = numba_xnd.pyxnd.unwrap_xnd_object(x_object_wrapper)\n",
    "    # we can get a pointer to the `xnd_t` struct from it\n",
    "    # this type is declared in `libxnd.py`\n",
    "    x = x_object.xnd\n",
    "    # We canreturn the address of the pointer of the data\n",
    "    return numba_xnd.shared.ptr_to_int(x.ptr)\n",
    "    \n",
    "get_xnd_t(xnd(10))"
   ]
  },
  {
   "cell_type": "markdown",
   "metadata": {},
   "source": [
    "Now let's do some slicing. Ideally, we want to be able to just deal with `xnd_t` object and only convert to `XndObject`s during boxing. So let's try to use the `xnd_subtree` function to do some indexing and then box the result with `xnd_from_type_xnd`. This works for simple types:"
   ]
  },
  {
   "cell_type": "code",
   "execution_count": 3,
   "metadata": {},
   "outputs": [],
   "source": [
    "@njit\n",
    "def try_slicing(x_object_wrapper, i):\n",
    "    x_object = numba_xnd.pyxnd.unwrap_xnd_object(x_object_wrapper)\n",
    "    x = x_object.xnd\n",
    "    \n",
    "    index = numba_xnd.libxnd.create_xnd_index()\n",
    "    index.tag = numba_xnd.libxnd.XND_KEY_INDEX\n",
    "    index.Index = i\n",
    "    ret_xnd = numba_xnd.libxnd.create_xnd()\n",
    "    ctx = numba_xnd.libndtypes.ndt_static_context()\n",
    "    numba_xnd.libxnd.xnd_subtree(\n",
    "        ret_xnd, x, index, numba_xnd.shared.i64_to_i32(1), ctx\n",
    "    )\n",
    "    assert not numba_xnd.shared.ptr_is_none(ret_xnd.ptr)\n",
    "    assert not numba_xnd.libndtypes.ndt_err_occurred(ctx)\n",
    "    \n",
    "    return numba_xnd.pyxnd.xnd_from_type_xnd(\n",
    "        numba_xnd.pyxnd.get_xnd_type_obj(),\n",
    "        ret_xnd\n",
    "    )"
   ]
  },
  {
   "cell_type": "code",
   "execution_count": 4,
   "metadata": {},
   "outputs": [],
   "source": [
    "x = xnd([1, 2, 3, 4])"
   ]
  },
  {
   "cell_type": "code",
   "execution_count": 5,
   "metadata": {},
   "outputs": [
    {
     "data": {
      "text/plain": [
       "xnd(4, type='int64')"
      ]
     },
     "execution_count": 5,
     "metadata": {},
     "output_type": "execute_result"
    }
   ],
   "source": [
    "try_slicing(x, 3)"
   ]
  },
  {
   "cell_type": "code",
   "execution_count": 6,
   "metadata": {},
   "outputs": [
    {
     "data": {
      "text/plain": [
       "xnd(2, type='int64')"
      ]
     },
     "execution_count": 6,
     "metadata": {},
     "output_type": "execute_result"
    }
   ],
   "source": [
    "try_slicing(x, 1)"
   ]
  },
  {
   "cell_type": "code",
   "execution_count": 7,
   "metadata": {},
   "outputs": [
    {
     "data": {
      "text/plain": [
       "xnd([3, 4], type='2 * int64')"
      ]
     },
     "execution_count": 7,
     "metadata": {},
     "output_type": "execute_result"
    }
   ],
   "source": [
    "try_slicing(xnd([[1, 2], [3, 4]]), 1)"
   ]
  },
  {
   "cell_type": "code",
   "execution_count": 8,
   "metadata": {},
   "outputs": [
    {
     "data": {
      "text/plain": [
       "xnd([1, 2, 3, 4], type='4 * int64')"
      ]
     },
     "execution_count": 8,
     "metadata": {},
     "output_type": "execute_result"
    }
   ],
   "source": [
    "x"
   ]
  },
  {
   "cell_type": "markdown",
   "metadata": {},
   "source": [
    "OK That seems to work pretty well. Let's try this with the high level API:"
   ]
  },
  {
   "cell_type": "code",
   "execution_count": 9,
   "metadata": {},
   "outputs": [],
   "source": [
    "@njit\n",
    "def slicing_high_level(x_object_wrapper, i):\n",
    "    x_object = numba_xnd.pyxnd.unwrap_xnd_object(x_object_wrapper)\n",
    "    x = x_object.xnd\n",
    "    x_wrapped = numba_xnd.libxnd.wrap_xnd(x, x_object_wrapper)\n",
    "    ret_x_wrapped = x_wrapped[i]\n",
    "    ret_x = numba_xnd.libxnd.unwrap_xnd(ret_x_wrapped)\n",
    "    return numba_xnd.pyxnd.xnd_from_type_xnd(\n",
    "        numba_xnd.pyxnd.get_xnd_type_obj(),\n",
    "        ret_x\n",
    "    )"
   ]
  },
  {
   "cell_type": "code",
   "execution_count": null,
   "metadata": {},
   "outputs": [],
   "source": [
    "slicing_high_level(x, 1)"
   ]
  },
  {
   "cell_type": "code",
   "execution_count": null,
   "metadata": {},
   "outputs": [],
   "source": []
  }
 ],
 "metadata": {
  "kernelspec": {
   "display_name": "Python 3",
   "language": "python",
   "name": "python3"
  },
  "language_info": {
   "codemirror_mode": {
    "name": "ipython",
    "version": 3
   },
   "file_extension": ".py",
   "mimetype": "text/x-python",
   "name": "python",
   "nbconvert_exporter": "python",
   "pygments_lexer": "ipython3",
   "version": "3.6.5"
  }
 },
 "nbformat": 4,
 "nbformat_minor": 2
}
